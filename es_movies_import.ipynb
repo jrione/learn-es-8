{
 "cells": [
  {
   "cell_type": "code",
   "execution_count": 2,
   "metadata": {},
   "outputs": [],
   "source": [
    "import csv\n",
    "from collections import deque\n",
    "import elasticsearch\n",
    "from elasticsearch import helpers\n",
    "import re\n"
   ]
  },
  {
   "cell_type": "code",
   "execution_count": 5,
   "metadata": {},
   "outputs": [],
   "source": [
    "def readMovies():\n",
    "    csvfile = open('ml-latest-small/movies.csv', 'r', encoding='utf-8', errors='ignore')\n",
    "    \n",
    "    reader = csv.DictReader( csvfile )\n",
    "    for line in reader:\n",
    "        movie = {}\n",
    "        title = re.sub(\" \\(.*\\)$\", \"\", re.sub('\"','', line['title']))\n",
    "        year = line['title'][-5:-1]\n",
    "        if (not year.isdigit()):\n",
    "            year = \"2016\"\n",
    "        genres = line['genres']\n",
    "        movie['movieId'] = int(line['movieId'])\n",
    "        movie['title'] = title\n",
    "        movie['year'] = int(year)\n",
    "        movie['genres'] = genres\n",
    "        yield movie"
   ]
  },
  {
   "cell_type": "code",
   "execution_count": 6,
   "metadata": {},
   "outputs": [
    {
     "name": "stderr",
     "output_type": "stream",
     "text": [
      "<ipython-input-6-b2779f8cd303>:1: DeprecationWarning: The 'http_auth' parameter is deprecated. Use 'basic_auth' or 'bearer_auth' parameters instead\n",
      "  es = elasticsearch.Elasticsearch([\"http://89.233.105.243:9200\"], http_auth=('elastic', 'changeme'))\n",
      "<ipython-input-6-b2779f8cd303>:3: DeprecationWarning: Passing transport options in the API method is deprecated. Use 'Elasticsearch.options()' instead.\n",
      "  es.indices.delete(index=\"movies\",ignore=404)\n"
     ]
    },
    {
     "data": {
      "text/plain": [
       "ObjectApiResponse({'_shards': {'total': 22, 'successful': 16, 'failed': 0}})"
      ]
     },
     "execution_count": 6,
     "metadata": {},
     "output_type": "execute_result"
    }
   ],
   "source": [
    "es = elasticsearch.Elasticsearch([\"http://89.233.105.243:9200\"], http_auth=('elastic', 'changeme'))\n",
    "\n",
    "es.indices.delete(index=\"movies\",ignore=404)\n",
    "deque(helpers.parallel_bulk(es,readMovies(),index=\"movies\"), maxlen=0)\n",
    "es.indices.refresh()"
   ]
  }
 ],
 "metadata": {
  "kernelspec": {
   "display_name": "base",
   "language": "python",
   "name": "python3"
  },
  "language_info": {
   "codemirror_mode": {
    "name": "ipython",
    "version": 3
   },
   "file_extension": ".py",
   "mimetype": "text/x-python",
   "name": "python",
   "nbconvert_exporter": "python",
   "pygments_lexer": "ipython3",
   "version": "3.8.8"
  }
 },
 "nbformat": 4,
 "nbformat_minor": 2
}
