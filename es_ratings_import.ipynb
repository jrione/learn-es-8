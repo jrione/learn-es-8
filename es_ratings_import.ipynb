{
 "cells": [
  {
   "cell_type": "code",
   "execution_count": 1,
   "metadata": {},
   "outputs": [],
   "source": [
    "import csv\n",
    "from collections import deque\n",
    "import elasticsearch\n",
    "from elasticsearch import helpers\n"
   ]
  },
  {
   "cell_type": "code",
   "execution_count": 2,
   "metadata": {},
   "outputs": [],
   "source": [
    "def readMovies():\n",
    "    csvfile = open('ml-latest-small/movies.csv', 'r', encoding='utf-8', errors='ignore')\n",
    "    reader = csv.DictReader( csvfile )\n",
    "    titleLookup = {}\n",
    "    for movie in reader:\n",
    "        titleLookup[movie['movieId']] = movie['title']\n",
    "    return titleLookup\n",
    "\n",
    "def readRatings():\n",
    "    csvfile = open('ml-latest-small/ratings.csv', 'r', encoding='utf-8', errors='ignore')\n",
    "    titleLookup = readMovies()\n",
    "    reader = csv.DictReader( csvfile )\n",
    "    for line in reader:\n",
    "        rating = {}\n",
    "        rating['user_id'] = int(line['userId'])\n",
    "        rating['movie_id'] = int(line['movieId'])\n",
    "        rating['title'] = titleLookup[line['movieId']]\n",
    "        rating['rating'] = float(line['rating'])\n",
    "        rating['timestamp'] = int(line['timestamp'])\n",
    "        yield rating\n",
    "\n"
   ]
  },
  {
   "cell_type": "code",
   "execution_count": 3,
   "metadata": {},
   "outputs": [
    {
     "name": "stderr",
     "output_type": "stream",
     "text": [
      "<ipython-input-3-96fb20648c52>:1: DeprecationWarning: The 'http_auth' parameter is deprecated. Use 'basic_auth' or 'bearer_auth' parameters instead\n",
      "  es = elasticsearch.Elasticsearch([\"http://199.241.138.138:9200\"], http_auth=('elastic', 'changeme'))\n",
      "<ipython-input-3-96fb20648c52>:3: DeprecationWarning: Passing transport options in the API method is deprecated. Use 'Elasticsearch.options()' instead.\n",
      "  es.indices.delete(index=\"ratings\",ignore=404)\n"
     ]
    },
    {
     "data": {
      "text/plain": [
       "ObjectApiResponse({'_shards': {'total': 32, 'successful': 21, 'failed': 0}})"
      ]
     },
     "execution_count": 3,
     "metadata": {},
     "output_type": "execute_result"
    }
   ],
   "source": [
    "es = elasticsearch.Elasticsearch([\"http://199.241.138.138:9200\"], http_auth=('elastic', 'changeme'))\n",
    "\n",
    "es.indices.delete(index=\"ratings\",ignore=404)\n",
    "deque(helpers.parallel_bulk(es,readRatings(),index=\"ratings\"), maxlen=0)\n",
    "es.indices.refresh()"
   ]
  }
 ],
 "metadata": {
  "kernelspec": {
   "display_name": "base",
   "language": "python",
   "name": "python3"
  },
  "language_info": {
   "codemirror_mode": {
    "name": "ipython",
    "version": 3
   },
   "file_extension": ".py",
   "mimetype": "text/x-python",
   "name": "python",
   "nbconvert_exporter": "python",
   "pygments_lexer": "ipython3",
   "version": "3.8.8"
  }
 },
 "nbformat": 4,
 "nbformat_minor": 2
}
